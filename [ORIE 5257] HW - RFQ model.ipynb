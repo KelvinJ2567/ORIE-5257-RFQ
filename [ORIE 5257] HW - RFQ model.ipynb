{
 "cells": [
  {
   "cell_type": "code",
   "execution_count": 4,
   "id": "65973174-5f2b-41c7-9cae-2a62bbac5571",
   "metadata": {},
   "outputs": [],
   "source": [
    "import model_utils\n",
    "import numpy as np"
   ]
  },
  {
   "cell_type": "code",
   "execution_count": 6,
   "id": "a7e5f9f5-4e13-4381-b5de-2b5e3ccce2f5",
   "metadata": {},
   "outputs": [],
   "source": [
    "bid_model = model_utils.load_model('bid_logistic_model.pkl')\n",
    "ask_model = model_utils.load_model('ask_logistic_model.pkl')\n",
    "bid_scaler = model_utils.load_model('bid_scaler.pkl')\n",
    "ask_scaler = model_utils.load_model('ask_scaler.pkl')\n"
   ]
  },
  {
   "cell_type": "code",
   "execution_count": null,
   "id": "44c91c78-c830-476b-ae1b-64aa991c29f4",
   "metadata": {},
   "outputs": [],
   "source": []
  }
 ],
 "metadata": {
  "kernelspec": {
   "display_name": "Python 3",
   "language": "python",
   "name": "python3"
  },
  "language_info": {
   "codemirror_mode": {
    "name": "ipython",
    "version": 3
   },
   "file_extension": ".py",
   "mimetype": "text/x-python",
   "name": "python",
   "nbconvert_exporter": "python",
   "pygments_lexer": "ipython3",
   "version": "3.12.7"
  }
 },
 "nbformat": 4,
 "nbformat_minor": 5
}
